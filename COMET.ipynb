{
 "cells": [
  {
   "cell_type": "code",
   "execution_count": null,
   "metadata": {
    "collapsed": false
   },
   "outputs": [],
   "source": [
    "%matplotlib inline\n",
    "import pandas as pd\n",
    "import numpy as np\n",
    "import matplotlib.pyplot as plt"
   ]
  },
  {
   "cell_type": "code",
   "execution_count": null,
   "metadata": {
    "collapsed": false
   },
   "outputs": [],
   "source": [
    "hits_train = pd.read_csv(\"data/train.csv\", index_col='global_id')\n",
    "hits_train.head()"
   ]
  },
  {
   "cell_type": "code",
   "execution_count": null,
   "metadata": {
    "collapsed": false
   },
   "outputs": [],
   "source": [
    "hits_test = pd.read_csv(\"data/test.csv\", index_col='global_id')\n",
    "hits_test.head()"
   ]
  },
  {
   "cell_type": "markdown",
   "metadata": {},
   "source": [
    "# Naive machine learning"
   ]
  },
  {
   "cell_type": "code",
   "execution_count": null,
   "metadata": {
    "collapsed": true
   },
   "outputs": [],
   "source": [
    "from sklearn.tree import DecisionTreeClassifier"
   ]
  },
  {
   "cell_type": "code",
   "execution_count": null,
   "metadata": {
    "collapsed": false
   },
   "outputs": [],
   "source": [
    "wires = pd.read_csv('data/wires.csv')\n",
    "wire_rho = wires[\"wire_rho\"]\n",
    "wire_phi = wires[\"wire_phi\"]\n",
    "neibours = [None] * len(wire_rho)\n",
    " \n",
    "for layer in set(wire_rho):\n",
    "    p = []\n",
    "\n",
    "    for j in range(len(wire_rho)):\n",
    "        if layer != wire_rho[j]: continue\n",
    "        \n",
    "        p.append((wire_phi[j], j))\n",
    "        \n",
    "    p.sort()\n",
    "    \n",
    "    num = len(p)\n",
    "    for i in range(len(p)):\n",
    "        prv = (i - 1 + num) % num\n",
    "        nxt = (i + 1) % num\n",
    "        neibours[p[i][1]] = (p[prv][1], p[nxt][1])   "
   ]
  },
  {
   "cell_type": "code",
   "execution_count": null,
   "metadata": {
    "collapsed": false
   },
   "outputs": [],
   "source": [
    "def get_data(hits):\n",
    "    event_id = hits['event_id'].values\n",
    "    wire_id = hits['wire_id'].values\n",
    "    energy_deposit = hits['energy_deposit'].values\n",
    "    relative_time = hits['relative_time'].values\n",
    "    \n",
    "    event_list = list(set(event_id))\n",
    "    events_number = len(event_list)\n",
    "    event_map = {}\n",
    "    for e in range(events_number):\n",
    "        event_map[event_list[e]] = e\n",
    "    wires_number = 4482\n",
    "    index = np.zeros((events_number, wires_number), dtype=\"int\") \n",
    "    \n",
    "    num = len(event_id)\n",
    "    result = np.zeros((num, 7))\n",
    "            \n",
    "    for i in range(num):\n",
    "        index[event_map[event_id[i]], wire_id[i]] = i + 1\n",
    "            \n",
    "    print \"Index created\"\n",
    "        \n",
    "    for i in range(num):\n",
    "        if energy_deposit[i] > 0.0:\n",
    "            current_e = event_map[event_id[i]]\n",
    "            current_w = int(wire_id[i])\n",
    "            \n",
    "            prv_wire = neibours[current_w][0]\n",
    "            prv_i = index[current_e, prv_wire] - 1\n",
    "            nxt_wire = neibours[current_w][1]\n",
    "            next_i = index[current_e, nxt_wire] - 1\n",
    "            \n",
    "            result[i,0] = np.log(energy_deposit[i]) \n",
    "            result[i,1] = relative_time[i]\n",
    "            result[i,2] = wire_rho[current_w]\n",
    "            result[i,3] = np.log(energy_deposit[prv_i] + 1e-20)\n",
    "            result[i,4] = relative_time[i] - relative_time[prv_i] \n",
    "            result[i,5] = np.log(energy_deposit[next_i] + 1e-20)\n",
    "            result[i,6] = relative_time[i] - relative_time[next_i]\n",
    "    \n",
    "    print \"Done\"\n",
    "            \n",
    "    return result"
   ]
  },
  {
   "cell_type": "code",
   "execution_count": null,
   "metadata": {
    "collapsed": false
   },
   "outputs": [],
   "source": [
    "hits_train_filtered = hits_train.loc[hits_train.energy_deposit > 0]\n",
    "\n",
    "train_data = get_data(hits_train_filtered)\n",
    "train_data"
   ]
  },
  {
   "cell_type": "code",
   "execution_count": null,
   "metadata": {
    "collapsed": false
   },
   "outputs": [],
   "source": [
    "from sklearn.cross_validation import cross_val_score\n",
    "cv_entropy = cross_val_score(DecisionTreeClassifier(criterion='entropy'),\n",
    "                train_data, (hits_train_filtered.label == 1).values.astype(np.int),\n",
    "                scoring='roc_auc')\n",
    "print(cv_entropy.mean(), cv_entropy.std())"
   ]
  },
  {
   "cell_type": "markdown",
   "metadata": {},
   "source": [
    "CV might take some time"
   ]
  },
  {
   "cell_type": "code",
   "execution_count": null,
   "metadata": {
    "collapsed": false
   },
   "outputs": [],
   "source": [
    "from sklearn.ensemble import GradientBoostingClassifier\n",
    "from sklearn.cross_validation import cross_val_score\n",
    "cv_gini = cross_val_score(GradientBoostingClassifier(),\n",
    "                train_data, (hits_train_filtered.label == 1).values.astype(np.int),\n",
    "               scoring='roc_auc')\n",
    "print(cv_gini.mean(), cv_gini.std())"
   ]
  },
  {
   "cell_type": "code",
   "execution_count": null,
   "metadata": {
    "collapsed": false
   },
   "outputs": [],
   "source": [
    "classifier = GradientBoostingClassifier()\n",
    "classifier.fit(train_data, (hits_train_filtered.label == 1))"
   ]
  },
  {
   "cell_type": "code",
   "execution_count": null,
   "metadata": {
    "collapsed": false
   },
   "outputs": [],
   "source": [
    "candidates = hits_test.loc[hits_test.energy_deposit > 0]\n",
    "ml_prediction = pd.DataFrame({\n",
    "        \"prediction\": classifier.predict_proba(get_data(candidates))[:, 1]\n",
    "    }, index=candidates.index)"
   ]
  },
  {
   "cell_type": "code",
   "execution_count": null,
   "metadata": {
    "collapsed": false
   },
   "outputs": [],
   "source": [
    "ml_prediction.to_csv(\"naive_ml_prediction.csv\", index_label='global_id')"
   ]
  },
  {
   "cell_type": "markdown",
   "metadata": {},
   "source": [
    "Moral: sometimes you can outdo simple machine learning by thinking. Corollary: the best result is achieved by combining the approaches."
   ]
  },
  {
   "cell_type": "code",
   "execution_count": null,
   "metadata": {
    "collapsed": false
   },
   "outputs": [],
   "source": [
    "the_event = hits_train[hits_train.event_id==54]\n",
    "fig, ax = plt.subplots(figsize=(20,20))\n",
    "colormap = 'spectral'\n",
    "wires = pd.read_csv('data/wires.csv')\n",
    "\n",
    "wires_cartesian = np.vstack((wires['wire_rho'] * np.cos(wires['wire_phi']),\n",
    "                                  wires['wire_rho'] * np.sin(wires['wire_phi']))).T\n",
    "\n",
    "ax.scatter(wires_cartesian[:, 0], wires_cartesian[:, 1], c=2-the_event.label, edgecolors='none',\n",
    "           s=100, cmap=colormap)\n",
    "# We want to know what color corresponds to which label\n",
    "labels_x = (-20, 0, 20)\n",
    "ax.scatter(labels_x, (0, 0, 0), c=(2, 1, 0), cmap=colormap, edgecolors='none', s=300)\n",
    "for label, coordinate in zip((\"0, inactive\", \"1, signal\", \"2, noise\"), labels_x):\n",
    "    ax.annotate(label, xy=(coordinate-4, 3))\n"
   ]
  },
  {
   "cell_type": "markdown",
   "metadata": {},
   "source": [
    "### Energy deposits"
   ]
  },
  {
   "cell_type": "code",
   "execution_count": null,
   "metadata": {
    "collapsed": false
   },
   "outputs": [],
   "source": [
    "fig, ax = plt.subplots(figsize=(20,20))\n",
    "ax.scatter(wires_cartesian[:, 0], wires_cartesian[:, 1], c=np.log(the_event.energy_deposit), edgecolors='none',\n",
    "           s=100, cmap='bwr')"
   ]
  }
 ],
 "metadata": {
  "anaconda-cloud": {},
  "kernelspec": {
   "display_name": "Python [Root]",
   "language": "python",
   "name": "Python [Root]"
  },
  "language_info": {
   "codemirror_mode": {
    "name": "ipython",
    "version": 3
   },
   "file_extension": ".py",
   "mimetype": "text/x-python",
   "name": "python",
   "nbconvert_exporter": "python",
   "pygments_lexer": "ipython3",
   "version": "3.5.2"
  }
 },
 "nbformat": 4,
 "nbformat_minor": 0
}
