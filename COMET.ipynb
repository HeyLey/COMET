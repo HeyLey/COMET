{
 "cells": [
  {
   "cell_type": "code",
   "execution_count": 1,
   "metadata": {
    "collapsed": false
   },
   "outputs": [
    {
     "name": "stderr",
     "output_type": "stream",
     "text": [
      "//anaconda/envs/comet/lib/python2.7/site-packages/matplotlib/font_manager.py:273: UserWarning: Matplotlib is building the font cache using fc-list. This may take a moment.\n",
      "  warnings.warn('Matplotlib is building the font cache using fc-list. This may take a moment.')\n"
     ]
    }
   ],
   "source": [
    "%matplotlib inline\n",
    "import pandas as pd\n",
    "import numpy as np\n",
    "import matplotlib.pyplot as plt"
   ]
  },
  {
   "cell_type": "markdown",
   "metadata": {},
   "source": [
    "Data from [Kaggle](https://inclass.kaggle.com/c/comet-track-recognition-ysda-2016/data) are temporarily available via cernbox. Let's get it."
   ]
  },
  {
   "cell_type": "code",
   "execution_count": 2,
   "metadata": {
    "collapsed": false
   },
   "outputs": [
    {
     "name": "stdout",
     "output_type": "stream",
     "text": [
      "total 990760\n",
      "drwxr-xr-x  6 atsky  staff        204 13 дек 13:51 .\n",
      "drwxr-xr-x  7 atsky  staff        238 13 дек 13:55 ..\n",
      "-rw-r--r--@ 1 atsky  staff   33766823 22 сен 19:47 sample_submission.csv\n",
      "-rw-r--r--@ 1 atsky  staff  237873474 22 сен 20:01 test.csv\n",
      "-rw-r--r--@ 1 atsky  staff  235515093 22 сен 20:00 train.csv\n",
      "-rw-r--r--@ 1 atsky  staff     106657 22 сен 19:44 wires.csv\n"
     ]
    }
   ],
   "source": [
    "%%bash\n",
    "if [ ! -d data ] ; then \n",
    "    wget https://cernbox.cern.ch/index.php/s/OuxEIMWpvA4ZlS7/download -O data.tgz && tar xzf data.tgz \n",
    "fi\n",
    "ls -al data"
   ]
  },
  {
   "cell_type": "code",
   "execution_count": 3,
   "metadata": {
    "collapsed": false
   },
   "outputs": [
    {
     "data": {
      "text/html": [
       "<div>\n",
       "<table border=\"1\" class=\"dataframe\">\n",
       "  <thead>\n",
       "    <tr style=\"text-align: right;\">\n",
       "      <th></th>\n",
       "      <th>event_id</th>\n",
       "      <th>wire_id</th>\n",
       "      <th>energy_deposit</th>\n",
       "      <th>relative_time</th>\n",
       "      <th>label</th>\n",
       "    </tr>\n",
       "    <tr>\n",
       "      <th>global_id</th>\n",
       "      <th></th>\n",
       "      <th></th>\n",
       "      <th></th>\n",
       "      <th></th>\n",
       "      <th></th>\n",
       "    </tr>\n",
       "  </thead>\n",
       "  <tbody>\n",
       "    <tr>\n",
       "      <th>0</th>\n",
       "      <td>0</td>\n",
       "      <td>0</td>\n",
       "      <td>0.000000e+00</td>\n",
       "      <td>0.000000</td>\n",
       "      <td>0</td>\n",
       "    </tr>\n",
       "    <tr>\n",
       "      <th>1</th>\n",
       "      <td>0</td>\n",
       "      <td>1</td>\n",
       "      <td>0.000000e+00</td>\n",
       "      <td>0.000000</td>\n",
       "      <td>0</td>\n",
       "    </tr>\n",
       "    <tr>\n",
       "      <th>2</th>\n",
       "      <td>0</td>\n",
       "      <td>2</td>\n",
       "      <td>0.000000e+00</td>\n",
       "      <td>0.000000</td>\n",
       "      <td>0</td>\n",
       "    </tr>\n",
       "    <tr>\n",
       "      <th>3</th>\n",
       "      <td>0</td>\n",
       "      <td>3</td>\n",
       "      <td>0.000000e+00</td>\n",
       "      <td>0.000000</td>\n",
       "      <td>0</td>\n",
       "    </tr>\n",
       "    <tr>\n",
       "      <th>4</th>\n",
       "      <td>0</td>\n",
       "      <td>4</td>\n",
       "      <td>1.178108e-08</td>\n",
       "      <td>22.224176</td>\n",
       "      <td>2</td>\n",
       "    </tr>\n",
       "  </tbody>\n",
       "</table>\n",
       "</div>"
      ],
      "text/plain": [
       "           event_id  wire_id  energy_deposit  relative_time  label\n",
       "global_id                                                         \n",
       "0                 0        0    0.000000e+00       0.000000      0\n",
       "1                 0        1    0.000000e+00       0.000000      0\n",
       "2                 0        2    0.000000e+00       0.000000      0\n",
       "3                 0        3    0.000000e+00       0.000000      0\n",
       "4                 0        4    1.178108e-08      22.224176      2"
      ]
     },
     "execution_count": 3,
     "metadata": {},
     "output_type": "execute_result"
    }
   ],
   "source": [
    "hits_train = pd.read_csv(\"data/train.csv\", index_col='global_id')\n",
    "hits_train.head()"
   ]
  },
  {
   "cell_type": "code",
   "execution_count": 4,
   "metadata": {
    "collapsed": false
   },
   "outputs": [
    {
     "data": {
      "text/html": [
       "<div>\n",
       "<table border=\"1\" class=\"dataframe\">\n",
       "  <thead>\n",
       "    <tr style=\"text-align: right;\">\n",
       "      <th></th>\n",
       "      <th>event_id</th>\n",
       "      <th>wire_id</th>\n",
       "      <th>energy_deposit</th>\n",
       "      <th>relative_time</th>\n",
       "    </tr>\n",
       "    <tr>\n",
       "      <th>global_id</th>\n",
       "      <th></th>\n",
       "      <th></th>\n",
       "      <th></th>\n",
       "      <th></th>\n",
       "    </tr>\n",
       "  </thead>\n",
       "  <tbody>\n",
       "    <tr>\n",
       "      <th>7619400</th>\n",
       "      <td>1700</td>\n",
       "      <td>0</td>\n",
       "      <td>0.000000</td>\n",
       "      <td>0.000000</td>\n",
       "    </tr>\n",
       "    <tr>\n",
       "      <th>7619401</th>\n",
       "      <td>1700</td>\n",
       "      <td>1</td>\n",
       "      <td>0.000000</td>\n",
       "      <td>0.000000</td>\n",
       "    </tr>\n",
       "    <tr>\n",
       "      <th>7619402</th>\n",
       "      <td>1700</td>\n",
       "      <td>2</td>\n",
       "      <td>0.000000</td>\n",
       "      <td>0.000000</td>\n",
       "    </tr>\n",
       "    <tr>\n",
       "      <th>7619403</th>\n",
       "      <td>1700</td>\n",
       "      <td>3</td>\n",
       "      <td>0.000061</td>\n",
       "      <td>515.932708</td>\n",
       "    </tr>\n",
       "    <tr>\n",
       "      <th>7619404</th>\n",
       "      <td>1700</td>\n",
       "      <td>4</td>\n",
       "      <td>0.000000</td>\n",
       "      <td>0.000000</td>\n",
       "    </tr>\n",
       "  </tbody>\n",
       "</table>\n",
       "</div>"
      ],
      "text/plain": [
       "           event_id  wire_id  energy_deposit  relative_time\n",
       "global_id                                                  \n",
       "7619400        1700        0        0.000000       0.000000\n",
       "7619401        1700        1        0.000000       0.000000\n",
       "7619402        1700        2        0.000000       0.000000\n",
       "7619403        1700        3        0.000061     515.932708\n",
       "7619404        1700        4        0.000000       0.000000"
      ]
     },
     "execution_count": 4,
     "metadata": {},
     "output_type": "execute_result"
    }
   ],
   "source": [
    "hits_test = pd.read_csv(\"data/test.csv\", index_col='global_id')\n",
    "hits_test.head()"
   ]
  },
  {
   "cell_type": "markdown",
   "metadata": {},
   "source": [
    "# Naive machine learning"
   ]
  },
  {
   "cell_type": "code",
   "execution_count": 5,
   "metadata": {
    "collapsed": true
   },
   "outputs": [],
   "source": [
    "from sklearn.tree import DecisionTreeClassifier"
   ]
  },
  {
   "cell_type": "code",
   "execution_count": 6,
   "metadata": {
    "collapsed": false
   },
   "outputs": [],
   "source": [
    "wires = pd.read_csv('data/wires.csv')\n",
    "wire_rho = wires[\"wire_rho\"]\n",
    "wire_phi = wires[\"wire_phi\"]\n",
    "neibours = [None] * len(wire_rho)\n",
    " \n",
    "for layer in set(wire_rho):\n",
    "    p = []\n",
    "\n",
    "    for j in range(len(wire_rho)):\n",
    "        if layer != wire_rho[j]: continue\n",
    "        \n",
    "        p.append((wire_phi[j], j))\n",
    "        \n",
    "    p.sort()\n",
    "    \n",
    "    num = len(p)\n",
    "    for i in range(len(p)):\n",
    "        prv = (i - 1 + num) % num\n",
    "        nxt = (i + 1) % num\n",
    "        neibours[p[i][1]] = (p[prv][1], p[nxt][1])   "
   ]
  },
  {
   "cell_type": "code",
   "execution_count": 7,
   "metadata": {
    "collapsed": false
   },
   "outputs": [],
   "source": [
    "def get_data(hits):\n",
    "    event_id = hits['event_id'].values\n",
    "    wire_id = hits['wire_id'].values\n",
    "    energy_deposit = hits['energy_deposit'].values\n",
    "    relative_time = hits['relative_time'].values\n",
    "    \n",
    "    event_list = list(set(event_id))\n",
    "    events_number = len(event_list)\n",
    "    event_map = {}\n",
    "    for e in range(events_number):\n",
    "        event_map[event_list[e]] = e\n",
    "    wires_number = 4482\n",
    "    index = np.zeros((events_number, wires_number), dtype=\"int\") \n",
    "    \n",
    "    num = len(event_id)\n",
    "    result = np.zeros((num, 7))\n",
    "            \n",
    "    for i in range(num):\n",
    "        index[event_map[event_id[i]], wire_id[i]] = i + 1\n",
    "            \n",
    "    print \"Index created\"\n",
    "        \n",
    "    for i in range(num):\n",
    "        if energy_deposit[i] > 0.0:\n",
    "            current_e = event_map[event_id[i]]\n",
    "            current_w = int(wire_id[i])\n",
    "            \n",
    "            prv_wire = neibours[current_w][0]\n",
    "            prv_i = index[current_e, prv_wire] - 1\n",
    "            nxt_wire = neibours[current_w][1]\n",
    "            next_i = index[current_e, nxt_wire] - 1\n",
    "            \n",
    "            result[i,0] = np.log(energy_deposit[i]) \n",
    "            result[i,1] = relative_time[i]\n",
    "            result[i,2] = wire_rho[current_w]\n",
    "            result[i,3] = np.log(energy_deposit[prv_i] + 1e-20)\n",
    "            result[i,4] = relative_time[i] - relative_time[prv_i] \n",
    "            result[i,5] = np.log(energy_deposit[next_i] + 1e-20)\n",
    "            result[i,6] = relative_time[i] - relative_time[next_i]\n",
    "    \n",
    "    print \"Done\"\n",
    "            \n",
    "    return result"
   ]
  },
  {
   "cell_type": "code",
   "execution_count": 8,
   "metadata": {
    "collapsed": false
   },
   "outputs": [
    {
     "name": "stdout",
     "output_type": "stream",
     "text": [
      "Index created\n",
      "Done\n"
     ]
    },
    {
     "data": {
      "text/plain": [
       "array([[  -18.25677136,    22.22417579,    53.        , ...,\n",
       "         -727.96249061,   -13.1816232 ,  -727.96249061],\n",
       "       [  -13.84254559,   101.30041514,    53.        , ...,\n",
       "         -648.88625126,    -9.74278313,   -33.04443442],\n",
       "       [   -9.74278313,   134.34484956,    53.        , ...,\n",
       "           33.04443442,   -13.1816232 ,  -615.84181685],\n",
       "       ..., \n",
       "       [  -13.80508795,  1012.26572774,    80.2       , ...,\n",
       "          262.07906133,   -12.39993925,   196.67705705],\n",
       "       [  -12.39993925,   815.58867069,    80.2       , ...,\n",
       "         -196.67705705,   -13.1816232 ,    65.40200428],\n",
       "       [  -13.1816232 ,   750.18666641,    80.2       , ...,\n",
       "          -65.40200428,   -13.1816232 ,     0.        ]])"
      ]
     },
     "execution_count": 8,
     "metadata": {},
     "output_type": "execute_result"
    }
   ],
   "source": [
    "hits_train_filtered = hits_train.loc[hits_train.energy_deposit > 0]\n",
    "\n",
    "train_data = get_data(hits_train_filtered)\n",
    "train_data"
   ]
  },
  {
   "cell_type": "code",
   "execution_count": 9,
   "metadata": {
    "collapsed": false
   },
   "outputs": [
    {
     "name": "stderr",
     "output_type": "stream",
     "text": [
      "//anaconda/envs/comet/lib/python2.7/site-packages/sklearn/cross_validation.py:44: DeprecationWarning: This module was deprecated in version 0.18 in favor of the model_selection module into which all the refactored classes and functions are moved. Also note that the interface of the new CV iterators are different from that of this module. This module will be removed in 0.20.\n",
      "  \"This module will be removed in 0.20.\", DeprecationWarning)\n"
     ]
    },
    {
     "name": "stdout",
     "output_type": "stream",
     "text": [
      "(0.97703907993563632, 0.0002120902496683719)\n"
     ]
    }
   ],
   "source": [
    "from sklearn.cross_validation import cross_val_score\n",
    "cv_entropy = cross_val_score(DecisionTreeClassifier(criterion='entropy'),\n",
    "                train_data, (hits_train_filtered.label == 1).values.astype(np.int),\n",
    "                scoring='roc_auc')\n",
    "print(cv_entropy.mean(), cv_entropy.std())"
   ]
  },
  {
   "cell_type": "markdown",
   "metadata": {},
   "source": [
    "CV might take some time"
   ]
  },
  {
   "cell_type": "code",
   "execution_count": 10,
   "metadata": {
    "collapsed": false
   },
   "outputs": [
    {
     "name": "stdout",
     "output_type": "stream",
     "text": [
      "(0.996717733662984, 0.0001636920281464552)\n"
     ]
    }
   ],
   "source": [
    "from sklearn.ensemble import GradientBoostingClassifier\n",
    "from sklearn.cross_validation import cross_val_score\n",
    "cv_gini = cross_val_score(GradientBoostingClassifier(),\n",
    "                train_data, (hits_train_filtered.label == 1).values.astype(np.int),\n",
    "               scoring='roc_auc')\n",
    "print(cv_gini.mean(), cv_gini.std())"
   ]
  },
  {
   "cell_type": "code",
   "execution_count": null,
   "metadata": {
    "collapsed": false
   },
   "outputs": [
    {
     "data": {
      "text/plain": [
       "GradientBoostingClassifier(criterion='friedman_mse', init=None,\n",
       "              learning_rate=0.1, loss='deviance', max_depth=3,\n",
       "              max_features=None, max_leaf_nodes=None,\n",
       "              min_impurity_split=1e-07, min_samples_leaf=1,\n",
       "              min_samples_split=2, min_weight_fraction_leaf=0.0,\n",
       "              n_estimators=100, presort='auto', random_state=None,\n",
       "              subsample=1.0, verbose=0, warm_start=False)"
      ]
     },
     "execution_count": 11,
     "metadata": {},
     "output_type": "execute_result"
    }
   ],
   "source": [
    "classifier = GradientBoostingClassifier()\n",
    "classifier.fit(train_data, (hits_train_filtered.label == 1))"
   ]
  },
  {
   "cell_type": "code",
   "execution_count": null,
   "metadata": {
    "collapsed": false
   },
   "outputs": [
    {
     "name": "stdout",
     "output_type": "stream",
     "text": [
      "Index created\n"
     ]
    }
   ],
   "source": [
    "candidates = hits_test.loc[hits_test.energy_deposit > 0]\n",
    "ml_prediction = pd.DataFrame({\n",
    "        \"prediction\": classifier.predict_proba(get_data(candidates))[:, 1]\n",
    "    }, index=candidates.index)"
   ]
  },
  {
   "cell_type": "code",
   "execution_count": null,
   "metadata": {
    "collapsed": false
   },
   "outputs": [],
   "source": [
    "ml_prediction.to_csv(\"naive_ml_prediction.csv\", index_label='global_id')"
   ]
  },
  {
   "cell_type": "markdown",
   "metadata": {},
   "source": [
    "Moral: sometimes you can outdo simple machine learning by thinking. Corollary: the best result is achieved by combining the approaches."
   ]
  },
  {
   "cell_type": "code",
   "execution_count": null,
   "metadata": {
    "collapsed": false
   },
   "outputs": [],
   "source": [
    "the_event = hits_train[hits_train.event_id==54]\n",
    "fig, ax = plt.subplots(figsize=(20,20))\n",
    "colormap = 'spectral'\n",
    "wires = pd.read_csv('data/wires.csv')\n",
    "\n",
    "wires_cartesian = np.vstack((wires['wire_rho'] * np.cos(wires['wire_phi']),\n",
    "                                  wires['wire_rho'] * np.sin(wires['wire_phi']))).T\n",
    "\n",
    "ax.scatter(wires_cartesian[:, 0], wires_cartesian[:, 1], c=2-the_event.label, edgecolors='none',\n",
    "           s=100, cmap=colormap)\n",
    "# We want to know what color corresponds to which label\n",
    "labels_x = (-20, 0, 20)\n",
    "ax.scatter(labels_x, (0, 0, 0), c=(2, 1, 0), cmap=colormap, edgecolors='none', s=300)\n",
    "for label, coordinate in zip((\"0, inactive\", \"1, signal\", \"2, noise\"), labels_x):\n",
    "    ax.annotate(label, xy=(coordinate-4, 3))\n"
   ]
  },
  {
   "cell_type": "markdown",
   "metadata": {},
   "source": [
    "### Energy deposits"
   ]
  },
  {
   "cell_type": "code",
   "execution_count": null,
   "metadata": {
    "collapsed": false
   },
   "outputs": [],
   "source": [
    "fig, ax = plt.subplots(figsize=(20,20))\n",
    "ax.scatter(wires_cartesian[:, 0], wires_cartesian[:, 1], c=np.log(the_event.energy_deposit), edgecolors='none',\n",
    "           s=100, cmap='bwr')"
   ]
  }
 ],
 "metadata": {
  "anaconda-cloud": {},
  "kernelspec": {
   "display_name": "Python 2",
   "language": "python",
   "name": "python2"
  },
  "language_info": {
   "codemirror_mode": {
    "name": "ipython",
    "version": 2
   },
   "file_extension": ".py",
   "mimetype": "text/x-python",
   "name": "python",
   "nbconvert_exporter": "python",
   "pygments_lexer": "ipython2",
   "version": "2.7.12"
  }
 },
 "nbformat": 4,
 "nbformat_minor": 0
}
